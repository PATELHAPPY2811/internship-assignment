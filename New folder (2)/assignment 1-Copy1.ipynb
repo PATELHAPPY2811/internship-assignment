{
 "cells": [
  {
   "cell_type": "code",
   "execution_count": null,
   "id": "12ed2571",
   "metadata": {},
   "outputs": [],
   "source": [
    "num=int(input('enter a number'))\n",
    "factorial=1\n",
    "if number<0:\n",
    "    print('factorial doesnot exist for a negative number')\n",
    "elif number==0:\n",
    "    print('the factorial of 0 is 1')\n",
    "else:\n",
    "    for i in range(1,number+1):\n",
    "        factorial=factorial*i\n",
    "        print('the factorial of',number,'is',factorial)"
   ]
  },
  {
   "cell_type": "code",
   "execution_count": null,
   "id": "fda0b9c5",
   "metadata": {},
   "outputs": [],
   "source": [
    "n=int(input('Enter number'))\n",
    "if n<2:\n",
    "    print('this is a composite number')\n",
    "else:\n",
    "    for i in range(2,n):\n",
    "        if n%i==0:\n",
    "            print('this is a composite number')\n",
    "            break\n",
    "            else:\n",
    "    print('this is a prime number')\n",
    "            \n"
   ]
  },
  {
   "cell_type": "code",
   "execution_count": null,
   "id": "83377211",
   "metadata": {},
   "outputs": [],
   "source": [
    "str=input('enter the string')\n",
    "d1=dict()\n",
    "for c in str:\n",
    "    if c in d1:\n",
    "        d1[c]=d1[c]+1\n",
    "        else:\n",
    "            d1[c]=1\n",
    "print(d1)"
   ]
  },
  {
   "cell_type": "code",
   "execution_count": null,
   "id": "d72db42a",
   "metadata": {},
   "outputs": [],
   "source": []
  }
 ],
 "metadata": {
  "kernelspec": {
   "display_name": "Python 3 (ipykernel)",
   "language": "python",
   "name": "python3"
  },
  "language_info": {
   "codemirror_mode": {
    "name": "ipython",
    "version": 3
   },
   "file_extension": ".py",
   "mimetype": "text/x-python",
   "name": "python",
   "nbconvert_exporter": "python",
   "pygments_lexer": "ipython3",
   "version": "3.9.7"
  }
 },
 "nbformat": 4,
 "nbformat_minor": 5
}
